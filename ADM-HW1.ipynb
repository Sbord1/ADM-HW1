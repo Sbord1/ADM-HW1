{
 "cells": [
  {
   "cell_type": "markdown",
   "id": "9cf9950e",
   "metadata": {},
   "source": [
    "# ADM - Homework 1 Sbordone Francesco"
   ]
  },
  {
   "cell_type": "markdown",
   "id": "0c1d927b",
   "metadata": {},
   "source": [
    "## Problem 1"
   ]
  },
  {
   "cell_type": "markdown",
   "id": "7aa82188",
   "metadata": {},
   "source": [
    "### Introduction"
   ]
  },
  {
   "cell_type": "markdown",
   "id": "5a4ce932",
   "metadata": {},
   "source": [
    "#### Say \"Hello, World!\" With Python\n"
   ]
  },
  {
   "cell_type": "code",
   "execution_count": null,
   "id": "760e787a",
   "metadata": {
    "scrolled": true
   },
   "outputs": [],
   "source": [
    "print(\"Hello, World!\")"
   ]
  },
  {
   "cell_type": "markdown",
   "id": "cf71868b",
   "metadata": {},
   "source": [
    "#### Python If-Else "
   ]
  },
  {
   "cell_type": "code",
   "execution_count": null,
   "id": "b7922f01",
   "metadata": {},
   "outputs": [],
   "source": [
    "n=int(input())\n",
    "if (n%2)==0:\n",
    "    \n",
    "    if n in range(2,6):\n",
    "    \n",
    "        print(\"Not Weird\")\n",
    "    if n in range(6,21):\n",
    "        print(\"Weird\")\n",
    "    if n> 20:\n",
    "        print(\"Not Weird\")\n",
    "else:\n",
    "    print(\"Weird\")\n",
    "\n"
   ]
  },
  {
   "cell_type": "markdown",
   "id": "43652295",
   "metadata": {},
   "source": [
    "#### Arithmetic Operators"
   ]
  },
  {
   "cell_type": "code",
   "execution_count": null,
   "id": "5e71b386",
   "metadata": {},
   "outputs": [],
   "source": [
    "if __name__ == '__main__':\n",
    "    a = int(input())\n",
    "    b = int(input())\n",
    "    \n",
    "    print(a+b)\n",
    "    print(a-b)\n",
    "    print(a*b)\n",
    "\n"
   ]
  },
  {
   "cell_type": "markdown",
   "id": "e15a885d",
   "metadata": {},
   "source": [
    "#### Python: Division"
   ]
  },
  {
   "cell_type": "code",
   "execution_count": null,
   "id": "fe68d79e",
   "metadata": {},
   "outputs": [],
   "source": [
    "if __name__ == '__main__':\n",
    "    a = int(input())\n",
    "    b = int(input())\n",
    "    \n",
    "    print (a//b)\n",
    "    print(a/b)\n",
    "\n"
   ]
  },
  {
   "cell_type": "markdown",
   "id": "7434a757",
   "metadata": {},
   "source": [
    "#### Loops"
   ]
  },
  {
   "cell_type": "code",
   "execution_count": null,
   "id": "0f380eb4",
   "metadata": {},
   "outputs": [],
   "source": [
    "if __name__ == '__main__':\n",
    "    n = int(input())\n",
    "    \n",
    "    for i in range(0,n):\n",
    "        print(i*i)\n",
    "\n"
   ]
  },
  {
   "cell_type": "markdown",
   "id": "a97341eb",
   "metadata": {},
   "source": [
    "#### Write a function\n",
    "\n"
   ]
  },
  {
   "cell_type": "code",
   "execution_count": null,
   "id": "bb160887",
   "metadata": {},
   "outputs": [],
   "source": [
    "def is_leap(year):\n",
    "    leap = False\n",
    "    \n",
    "    if (year%4)==0:\n",
    "        leap = True\n",
    "        if (year%100)==0 and (year%400)!=0:\n",
    "            leap=False\n",
    "            \n",
    "        if (year%100)==0 and (year%400)==0:\n",
    "            leap=True\n",
    "        \n",
    "    return leap\n",
    "\n",
    "year = int(input())\n",
    "print(is_leap(year))\n",
    "\n"
   ]
  },
  {
   "cell_type": "markdown",
   "id": "c085f5a9",
   "metadata": {},
   "source": [
    "#### Print Function\n",
    "\n"
   ]
  },
  {
   "cell_type": "code",
   "execution_count": null,
   "id": "7095e52e",
   "metadata": {},
   "outputs": [],
   "source": [
    "if __name__ == '__main__':\n",
    "    n = int(input())\n",
    "    \n",
    "    for i in range(1,n+1):\n",
    "        print(i,end=\"\")\n",
    "\n"
   ]
  },
  {
   "cell_type": "markdown",
   "id": "60138ff5",
   "metadata": {},
   "source": [
    "### Data Types"
   ]
  },
  {
   "cell_type": "markdown",
   "id": "44bd0426",
   "metadata": {},
   "source": [
    "#### List Comprehensions\n",
    "\n"
   ]
  },
  {
   "cell_type": "code",
   "execution_count": null,
   "id": "d80b0683",
   "metadata": {},
   "outputs": [],
   "source": [
    "if __name__ == '__main__':\n",
    "    x = int(input())\n",
    "    y = int(input())\n",
    "    z = int(input())\n",
    "    n = int(input())\n",
    "    \n",
    "list = [[i,j,k] for i in range(x+1) for j in range(y+1) for k in range(z+1)]\n",
    "new_list = [[i,j,k] for [i,j,k] in list if i+j+k!=n]\n",
    "print(new_list)\n",
    "\n"
   ]
  },
  {
   "cell_type": "markdown",
   "id": "c227b4a0",
   "metadata": {},
   "source": [
    "#### Find the Runner-Up Score!"
   ]
  },
  {
   "cell_type": "code",
   "execution_count": null,
   "id": "b9252037",
   "metadata": {},
   "outputs": [],
   "source": [
    "if __name__ == '__main__':\n",
    "    n = int(input())\n",
    "    arr = map(int, input().split())\n",
    "    \n",
    "    new_list=(list(arr))\n",
    "    a=max(new_list)\n",
    "    \n",
    "    for i in range(len(new_list)):\n",
    "        if a in new_list:\n",
    "            new_list.remove(a)\n",
    "    \n",
    "    b=max(new_list)\n",
    "    print(b)\n",
    "\n"
   ]
  },
  {
   "cell_type": "markdown",
   "id": "21df07fe",
   "metadata": {},
   "source": [
    "#### Nested Lists"
   ]
  },
  {
   "cell_type": "code",
   "execution_count": null,
   "id": "0a6782e7",
   "metadata": {},
   "outputs": [],
   "source": [
    "if __name__ == '__main__':\n",
    "    \n",
    "    names=[]\n",
    "    values=[]\n",
    "    for _ in range(int(input())):\n",
    "        name = input()\n",
    "        score = float(input())\n",
    "        names.append(name)\n",
    "        values.append(score)\n",
    "    \n",
    "\n",
    "    lowest=min(values)\n",
    "    highest=max(values)\n",
    "    for i in values:\n",
    "        \n",
    "        if i<=highest and i >lowest:\n",
    "            runner_score=i\n",
    "            highest=i\n",
    "    \n",
    "    res=[]\n",
    "    for i in range(len(values)):\n",
    "        if values[i]==runner_score:\n",
    "            res.append(names[i])\n",
    "            \n",
    "    res.sort()\n",
    "    for i in res:\n",
    "        print(i)\n",
    "\n"
   ]
  },
  {
   "cell_type": "markdown",
   "id": "2bce9c08",
   "metadata": {},
   "source": [
    "#### Finding the percentage"
   ]
  },
  {
   "cell_type": "code",
   "execution_count": null,
   "id": "0696003f",
   "metadata": {},
   "outputs": [],
   "source": [
    "if __name__ == '__main__':\n",
    "    \n",
    "    n = int(input())\n",
    "    student_marks = {}\n",
    "    \n",
    "    for _ in range(n):\n",
    "        name, *line = input().split()\n",
    "        scores = list(map(float, line))\n",
    "        student_marks[name] = scores\n",
    "        \n",
    "    query_name = input()\n",
    "    \n",
    "    res=0\n",
    "    for i in student_marks[query_name]:\n",
    "        res=res+i\n",
    "    print(\"%.2f\" % (res/3))\n",
    "\n"
   ]
  },
  {
   "cell_type": "markdown",
   "id": "7ab9e188",
   "metadata": {},
   "source": [
    "#### Tuples"
   ]
  },
  {
   "cell_type": "code",
   "execution_count": null,
   "id": "7b50a94e",
   "metadata": {},
   "outputs": [],
   "source": [
    "if __name__ == '__main__':\n",
    "    n = int(input())\n",
    "    integer_list = map(int, input().split())\n",
    "    integer_list=tuple(integer_list)\n",
    "    print(hash(integer_list))\n",
    "\n"
   ]
  },
  {
   "cell_type": "markdown",
   "id": "fdff20e2",
   "metadata": {},
   "source": [
    "#### Lists"
   ]
  },
  {
   "cell_type": "code",
   "execution_count": null,
   "id": "f04a326c",
   "metadata": {},
   "outputs": [],
   "source": [
    "if __name__ == '__main__':\n",
    "    N = int(input())\n",
    "    arr=[]\n",
    "    x=[]\n",
    "    \n",
    "    for i in range(N):\n",
    "        command= input(\"\")\n",
    "        command=command.split()\n",
    "        x.append(command)\n",
    "    \n",
    "   \n",
    "    for i in range(N):\n",
    "        \n",
    "        if x[i][0]==\"print\":\n",
    "            print(arr)\n",
    "        if x[i][0]==\"sort\":\n",
    "            arr.sort()\n",
    "        if x[i][0]==\"pop\":\n",
    "            arr.pop()\n",
    "        if x[i][0]==\"reverse\":\n",
    "            arr.reverse()\n",
    "        if x[i][0]==\"insert\":\n",
    "            arr.insert(int(x[i][1]),int(x[i][2]))\n",
    "        if x[i][0]==\"remove\":\n",
    "            arr.remove(int(x[i][1]))\n",
    "        if x[i][0]==\"append\":\n",
    "            arr.append(int(x[i][1]))\n",
    "    \n",
    "            \n",
    "            \n",
    "        \n",
    "\n"
   ]
  },
  {
   "cell_type": "markdown",
   "id": "0e8627f8",
   "metadata": {},
   "source": [
    "### Strings"
   ]
  },
  {
   "cell_type": "markdown",
   "id": "5aa95b82",
   "metadata": {},
   "source": [
    "#### sWAP cASE"
   ]
  },
  {
   "cell_type": "code",
   "execution_count": null,
   "id": "0d69db4f",
   "metadata": {},
   "outputs": [],
   "source": [
    "def swap_case(s):\n",
    "    s=s.swapcase() \n",
    "    return s\n",
    "\n",
    "if __name__ == '__main__':\n",
    "    s = input()\n",
    "    result = swap_case(s)\n",
    "    print(result)\n",
    "\n"
   ]
  },
  {
   "cell_type": "markdown",
   "id": "6b730aaf",
   "metadata": {},
   "source": [
    "#### String Split and Join"
   ]
  },
  {
   "cell_type": "code",
   "execution_count": null,
   "id": "09929754",
   "metadata": {},
   "outputs": [],
   "source": [
    "def split_and_join(line):\n",
    "    result=line.split(\" \")\n",
    "    result = \"-\".join(result)\n",
    "    return result\n",
    "\n",
    "if __name__ == '__main__':\n",
    "    line = input()\n",
    "    result = split_and_join(line)\n",
    "    print(result)\n",
    "\n"
   ]
  },
  {
   "cell_type": "markdown",
   "id": "f95e7f4d",
   "metadata": {},
   "source": [
    "#### What's Your Name?\n",
    "\n"
   ]
  },
  {
   "cell_type": "code",
   "execution_count": null,
   "id": "ae1281be",
   "metadata": {},
   "outputs": [],
   "source": [
    "\n",
    "def print_full_name(first, last):\n",
    "    full_name= first+\" \"+last+\"!\"\n",
    "    print(\"Hello\",full_name,\"You just delved into python.\")\n",
    "    return\n",
    "\n",
    "if __name__ == '__main__':\n",
    "    first_name = input()\n",
    "    last_name = input()\n",
    "    print_full_name(first_name, last_name)\n",
    "\n"
   ]
  },
  {
   "cell_type": "markdown",
   "id": "e51f5890",
   "metadata": {},
   "source": [
    "#### Mutations"
   ]
  },
  {
   "cell_type": "code",
   "execution_count": null,
   "id": "ad707564",
   "metadata": {},
   "outputs": [],
   "source": [
    "def mutate_string(string, position, character):\n",
    "    string=list(string)\n",
    "    string[position]=c\n",
    "    string=\"\".join(string)\n",
    "    return string\n",
    "\n",
    "if __name__ == '__main__':\n",
    "    s = input()\n",
    "    i, c = input().split()\n",
    "    s_new = mutate_string(s, int(i), c)\n",
    "    print(s_new)\n"
   ]
  },
  {
   "cell_type": "markdown",
   "id": "2dcc8c9f",
   "metadata": {},
   "source": [
    "#### Find a string\n",
    "\n"
   ]
  },
  {
   "cell_type": "code",
   "execution_count": null,
   "id": "c1dd1127",
   "metadata": {},
   "outputs": [],
   "source": [
    "def count_substring(string, sub_string):\n",
    "   \n",
    "    string = [string[i:i+len(sub_string)] for i in range(0,len(string))]\n",
    "    \n",
    "    count=0\n",
    "    for i in string:\n",
    "        if i==sub_string:\n",
    "            count+=1 \n",
    "   \n",
    "    return count\n",
    "\n",
    "f __name__ == '__main__':\n",
    "    string = input().strip()\n",
    "    sub_string = input().strip()\n",
    "    \n",
    "    count = count_substring(string, sub_string)\n",
    "    print(count)\n"
   ]
  },
  {
   "cell_type": "markdown",
   "id": "f775cf20",
   "metadata": {},
   "source": [
    "#### String Validators"
   ]
  },
  {
   "cell_type": "code",
   "execution_count": null,
   "id": "74a5c9ad",
   "metadata": {},
   "outputs": [],
   "source": [
    "if __name__ == '__main__':\n",
    "    s = input()\n",
    "    a=b=c=d=e=False\n",
    "    for i in s:\n",
    "        if i.isalnum()==True:\n",
    "            a=True\n",
    "        if i.isalpha()==True:\n",
    "            b=True\n",
    "        if i.isdigit()==True:\n",
    "            c=True\n",
    "        if i.islower()==True:\n",
    "            d=True\n",
    "        if i.isupper()==True:\n",
    "            e=True\n",
    "    print(a)\n",
    "    print(b)\n",
    "    print(c)\n",
    "    print(d)\n",
    "    print(e)\n",
    "        \n",
    "\n"
   ]
  },
  {
   "cell_type": "markdown",
   "id": "62d09426",
   "metadata": {},
   "source": [
    "#### Text Wrap\n",
    "\n"
   ]
  },
  {
   "cell_type": "code",
   "execution_count": null,
   "id": "708ff9c2",
   "metadata": {},
   "outputs": [],
   "source": [
    "import textwrap\n",
    "\n",
    "def wrap(string, max_width):\n",
    "    \n",
    "    result=textwrap.wrap(string,max_width)\n",
    "    result=textwrap.fill(string,max_width)\n",
    "    return result\n",
    "\n",
    "\n",
    "if __name__ == '__main__':\n",
    "    string, max_width = input(), int(input())\n",
    "    result = wrap(string, max_width)\n",
    "    print(result)"
   ]
  },
  {
   "cell_type": "markdown",
   "id": "f943b6fc",
   "metadata": {},
   "source": [
    "#### Text Alignment\n",
    "\n"
   ]
  },
  {
   "cell_type": "code",
   "execution_count": null,
   "id": "46ee35de",
   "metadata": {},
   "outputs": [],
   "source": [
    "thickness = int(input()) #This must be an odd number\n",
    "c = 'H'\n",
    "for i in range(thickness):\n",
    "    print((c*i).rjust(thickness-1)+c+(c*i).ljust(thickness-1))\n",
    "\n",
    "for i in range(thickness+1):  print((c*thickness).center(thickness*2)+(c*thickness).center(thickness*6))\n",
    "\n",
    "for i in range((thickness+1)//2):\n",
    "    print((c*thickness*5).center(thickness*6))    \n",
    "\n",
    "for i in range(thickness+1): print((c*thickness).center(thickness*2)+(c*thickness).center(thickness*6))    \n",
    "\n",
    "for i in range(thickness):  print(((c*(thickness-i-1)).rjust(thickness)+c+(c*(thickness-i-1)).ljust(thickness)).rjust(thickness*6))\n",
    "\n"
   ]
  },
  {
   "cell_type": "markdown",
   "id": "ea86c233",
   "metadata": {},
   "source": [
    "#### Designer Door Mat\n",
    "\n"
   ]
  },
  {
   "cell_type": "code",
   "execution_count": null,
   "id": "dd9509d5",
   "metadata": {},
   "outputs": [],
   "source": [
    "string=list(input().split(\" \"))\n",
    "N=int(string[0])\n",
    "M=int(string[1])\n",
    "c=\".|.\"\n",
    "times=1\n",
    "\n",
    "#top part\n",
    "\n",
    "for i in range(0,int(N/2)):\n",
    "    print((c*times).center(M,\"-\")) \n",
    "    times+=2 \n",
    "\n",
    "#middle part\n",
    "print(\"WELCOME\".center(M,\"-\"))\n",
    "\n",
    "\n",
    "#bottom part\n",
    "times-=2\n",
    "for i in range(0,int(N/2)):\n",
    "        print((c*times).center(M,\"-\"))\n",
    "        times-=2\n",
    "        \n",
    "    \n",
    "    \n",
    "\n"
   ]
  },
  {
   "cell_type": "markdown",
   "id": "4e459b9e",
   "metadata": {},
   "source": [
    "#### String Formatting"
   ]
  },
  {
   "cell_type": "code",
   "execution_count": null,
   "id": "d8e57581",
   "metadata": {},
   "outputs": [],
   "source": [
    "def print_formatted(number):\n",
    "    bin=format(number,\"b\")\n",
    "    l=len(bin)\n",
    "    \n",
    "    for i in range(1,number+1):\n",
    "        print(str(i).rjust(l,\" \"),end=\" \")\n",
    "        print(format(i,\"o\").rjust(l,\" \"),end=\" \")\n",
    "        print(format(i,\"x\").upper().rjust(l,\" \"),end=\" \")\n",
    "        print(format(i,\"b\").rjust(l,\" \"))\n",
    "        \n",
    "\n",
    "    return\n",
    "\n",
    "if __name__ == '__main__':\n",
    "    n = int(input())\n",
    "    print_formatted(n)\n"
   ]
  },
  {
   "cell_type": "markdown",
   "id": "b95f9390",
   "metadata": {},
   "source": [
    "#### Capitalize"
   ]
  },
  {
   "cell_type": "code",
   "execution_count": null,
   "id": "223047f6",
   "metadata": {},
   "outputs": [],
   "source": [
    "# Complete the solve function below.\n",
    "def solve(s):\n",
    "    s=s.split(\" \")\n",
    "    a=[]\n",
    "    \n",
    "    for i in range(len(s)):\n",
    "        a.append(s[i].capitalize())\n",
    "    a=\" \".join(a) \n",
    "    return a\n",
    "\n",
    "if __name__ == '__main__':\n",
    "    fptr = open(os.environ['OUTPUT_PATH'], 'w')\n",
    "\n",
    "    s = input()\n",
    "\n",
    "    result = solve(s)\n",
    "\n",
    "    fptr.write(result + '\\n')\n",
    "\n",
    "    fptr.close()\n",
    "\n"
   ]
  },
  {
   "cell_type": "markdown",
   "id": "214bb4e0",
   "metadata": {},
   "source": [
    "#### The Minion Game"
   ]
  },
  {
   "cell_type": "code",
   "execution_count": null,
   "id": "f14d6aac",
   "metadata": {},
   "outputs": [],
   "source": [
    "\n",
    "def minion_game(string):\n",
    "  \n",
    "    kevin,stuart=0,0\n",
    "  \n",
    "    for i in range(len(string)):\n",
    "        if string[i] in \"AEIOU\":\n",
    "            kevin+= len(string) -i\n",
    "        else:\n",
    "            stuart+=len(string)-i\n",
    "    \n",
    "    if stuart<kevin:\n",
    "        print(f\"Kevin {kevin}\")\n",
    "    elif kevin<stuart:\n",
    "        print(f\"Stuart {stuart}\")\n",
    "    elif kevin==stuart:\n",
    "        print(\"Draw\")\n",
    "    return\n",
    "\n",
    "if __name__ == '__main__':\n",
    "    s = input()\n",
    "    minion_game(s)\n",
    "\n"
   ]
  },
  {
   "cell_type": "markdown",
   "id": "ac95756a",
   "metadata": {},
   "source": [
    "#### Merge the Tools!"
   ]
  },
  {
   "cell_type": "code",
   "execution_count": null,
   "id": "5fae1d9c",
   "metadata": {},
   "outputs": [],
   "source": [
    "def merge_the_tools(string, k):\n",
    "    \n",
    "    u=[]\n",
    "    t=[string[i:i+k] for i in range(0,len(string),k)]\n",
    "    \n",
    "    for i in range(len(t)):\n",
    "        \n",
    "        s=t[i][::-1] #reverse t\n",
    "        for j in s:\n",
    "            if s.count(j)>1: #se lettera appare piu di una volta\n",
    "                s=s.replace(j,\"\",s.count(j)-1)\n",
    "        \n",
    "        s=s[::-1]\n",
    "        u.append(s)\n",
    "        \n",
    "    for i in u:\n",
    "        print(i)       \n",
    "\n",
    "if __name__ == '__main__':\n",
    "    string, k = input(), int(input())\n",
    "    merge_the_tools(string, k)\n"
   ]
  },
  {
   "cell_type": "markdown",
   "id": "500e0862",
   "metadata": {},
   "source": [
    "#### Alphabet Rangoli\n",
    "\n"
   ]
  },
  {
   "cell_type": "code",
   "execution_count": null,
   "id": "b1cb817a",
   "metadata": {},
   "outputs": [],
   "source": [
    "def print_rangoli(size):\n",
    "    alphabet=\"abcdefghijklmnopqrstuvwxyz\"\n",
    "    \n",
    "    #dimensions\n",
    "    width = (size*4)-3\n",
    "    row = (size*2)-1\n",
    "    L=[]\n",
    "    for i in range(size):\n",
    "        #row\n",
    "        line=\"-\".join(alphabet[i:size])\n",
    "        #reversed\n",
    "        line2=line[::-1]\n",
    "        #row but without first letter\n",
    "        line3=line[1:]\n",
    "        L.append((line2 + line3).center(width,\"-\")) #bottom half\n",
    "    \n",
    "    #top half   \n",
    "    for j in reversed(L):\n",
    "        print(j)\n",
    "    #bottom half\n",
    "    for j in L[1:]:\n",
    "        print(j)\n",
    "\n",
    "if __name__ == '__main__':\n",
    "    n = int(input())\n",
    "    print_rangoli(n)\n"
   ]
  },
  {
   "cell_type": "markdown",
   "id": "3c08549d",
   "metadata": {},
   "source": [
    "### Sets"
   ]
  },
  {
   "cell_type": "markdown",
   "id": "33ef4b58",
   "metadata": {},
   "source": [
    "#### Introduction to Sets\n",
    "\n"
   ]
  },
  {
   "cell_type": "code",
   "execution_count": null,
   "id": "d542a3a7",
   "metadata": {},
   "outputs": [],
   "source": [
    "def average(array):\n",
    "    sum=0\n",
    "    array=set(array)\n",
    "    for i in array:\n",
    "        sum+=i\n",
    "    \n",
    "    mean=sum/(len(array))\n",
    "    return mean\n",
    "\n"
   ]
  },
  {
   "cell_type": "markdown",
   "id": "e27b4a1d",
   "metadata": {},
   "source": [
    "#### Symmetric Difference"
   ]
  },
  {
   "cell_type": "code",
   "execution_count": null,
   "id": "56128d18",
   "metadata": {},
   "outputs": [],
   "source": [
    "M=int(input())\n",
    "setM=set(map(int,input().split()))\n",
    "N=int(input())\n",
    "setN=set(map(int,input().split()))\n",
    "setDiff=set()\n",
    "setDiff.update(setM.difference(setN))\n",
    "setDiff.update(setN.difference(setM))\n",
    "\n",
    "for i in sorted(setDiff):\n",
    "    print(i)\n",
    "    \n",
    "\n"
   ]
  },
  {
   "cell_type": "markdown",
   "id": "8c8bc0f1",
   "metadata": {},
   "source": [
    "#### Set .add()"
   ]
  },
  {
   "cell_type": "code",
   "execution_count": null,
   "id": "713fa0be",
   "metadata": {},
   "outputs": [],
   "source": [
    "N=int(input())\n",
    "country=set()\n",
    "\n",
    "for i in range(N):\n",
    "    s=input()\n",
    "    country.add(s)\n",
    "\n",
    "print(len(country))\n",
    "\n"
   ]
  },
  {
   "cell_type": "markdown",
   "id": "129d906e",
   "metadata": {},
   "source": [
    "#### Set .discard(), .remove() & .pop()"
   ]
  },
  {
   "cell_type": "code",
   "execution_count": null,
   "id": "7b3acf10",
   "metadata": {},
   "outputs": [],
   "source": [
    "n = int(input())\n",
    "s = set(map(int, input().split()))\n",
    "N = int(input())\n",
    "commands=[]\n",
    "\n",
    "for i in range(N):\n",
    "    c = input().split()\n",
    "    commands.append(c)\n",
    "\n",
    "for j in commands:\n",
    "    \n",
    "    if j[0]==\"pop\":\n",
    "        s.pop()\n",
    "    elif j[0]==\"remove\" and int(j[1]) in s:\n",
    "        s.remove(int(j[1]))\n",
    "    elif j[0]==\"discard\":\n",
    "        s.discard(int(j[1]))\n",
    "\n",
    "print(sum(s))\n",
    "\n"
   ]
  },
  {
   "cell_type": "markdown",
   "id": "4ddceb53",
   "metadata": {},
   "source": [
    "#### Set .union() Operation"
   ]
  },
  {
   "cell_type": "code",
   "execution_count": null,
   "id": "4ad12742",
   "metadata": {},
   "outputs": [],
   "source": [
    "english=int(input())\n",
    "eStudents = set(map(int,input().split()))\n",
    "french = int(input())\n",
    "fStudents = set(map(int,input().split()))\n",
    "union = eStudents.union(fStudents)\n",
    "\n",
    "print(len(union))\n",
    "\n"
   ]
  },
  {
   "cell_type": "markdown",
   "id": "22efb8fa",
   "metadata": {},
   "source": [
    "#### Set .intersection() Operation"
   ]
  },
  {
   "cell_type": "code",
   "execution_count": null,
   "id": "289a23ff",
   "metadata": {},
   "outputs": [],
   "source": [
    "english = int(input())\n",
    "eStudents = set(map(int,input().split()))\n",
    "french = int(input())\n",
    "fStudents = set(map(int,input().split()))\n",
    "\n",
    "intersection = eStudents.intersection(fStudents)\n",
    "\n",
    "\n",
    "print(len(intersection))\n",
    "\n"
   ]
  },
  {
   "cell_type": "markdown",
   "id": "d73d89c8",
   "metadata": {},
   "source": [
    "#### Set .difference() Operation"
   ]
  },
  {
   "cell_type": "code",
   "execution_count": null,
   "id": "0dda9146",
   "metadata": {},
   "outputs": [],
   "source": [
    "english = int(input())\n",
    "eStudents = set(map(int,input().split()))\n",
    "french = int(input())\n",
    "fStudents = set(map(int,input().split()))\n",
    "\n",
    "\n",
    "diff = eStudents.difference(fStudents)\n",
    "print(len(diff))\n",
    "\n"
   ]
  },
  {
   "cell_type": "markdown",
   "id": "a4e6d290",
   "metadata": {},
   "source": [
    "#### Set .symmetric_difference() Operation"
   ]
  },
  {
   "cell_type": "code",
   "execution_count": null,
   "id": "a3c88a7b",
   "metadata": {},
   "outputs": [],
   "source": [
    "english = int(input())\n",
    "eStudents = set(map(int,input().split()))\n",
    "french = int(input())\n",
    "fStudents = set(map(int,input().split()))\n",
    "\n",
    "sym = eStudents.symmetric_difference(fStudents)\n",
    "\n",
    "print(len(sym))\n",
    "\n"
   ]
  },
  {
   "cell_type": "markdown",
   "id": "b16121fd",
   "metadata": {},
   "source": [
    "#### No Idea!"
   ]
  },
  {
   "cell_type": "code",
   "execution_count": null,
   "id": "6fe8c50f",
   "metadata": {},
   "outputs": [],
   "source": [
    "s=input()\n",
    "arr=input().split()\n",
    "A=set(map(int,input().split()))\n",
    "B=set(map(int,input().split()))\n",
    "\n",
    "like=0\n",
    "for i in arr:\n",
    "    if int(i) in A:\n",
    "        like+=1\n",
    "    if int(i) in B:\n",
    "        like-=1\n",
    "\n",
    "print(like)\n",
    "\n"
   ]
  },
  {
   "cell_type": "markdown",
   "id": "79792077",
   "metadata": {},
   "source": [
    "#### Set Mutations"
   ]
  },
  {
   "cell_type": "code",
   "execution_count": null,
   "id": "28732cc1",
   "metadata": {},
   "outputs": [],
   "source": [
    "# Enter your code here. Read input from STDIN. Print output to STDOUT\n",
    "numberA = int(input())\n",
    "A=set(map(int,input().split()))\n",
    "N=int(input())\n",
    "\n",
    "for i in range(N):\n",
    "    temp=input().split()\n",
    "    temp_numbers=set(map(int,input().split()))\n",
    "    \n",
    "    if temp[0]==\"intersection_update\":\n",
    "        A.intersection_update(temp_numbers)\n",
    "    elif temp[0]==\"update\":\n",
    "        A.update(temp_numbers)\n",
    "    elif temp[0]==\"symmetric_difference_update\":\n",
    "        A.symmetric_difference_update(temp_numbers)\n",
    "    elif temp[0]==\"difference_update\":\n",
    "        A.difference_update(temp_numbers)\n",
    "print(sum(A))\n",
    "\n"
   ]
  },
  {
   "cell_type": "markdown",
   "id": "d3a3cefe",
   "metadata": {},
   "source": [
    "#### The Captain's Room (7.13/10)"
   ]
  },
  {
   "cell_type": "code",
   "execution_count": null,
   "id": "d204802e",
   "metadata": {},
   "outputs": [],
   "source": [
    "# Enter your code here. Read input from STDIN. Print output to STDOUT\n",
    "K=int(input())\n",
    "rooms=input().split()\n",
    "\n",
    "s=set(rooms)\n",
    "\n",
    "\n",
    "for i in rooms:\n",
    "    \n",
    "    s.discard(i)\n",
    "    \n",
    "    if len(s)==1:\n",
    "        break\n",
    "print(s.pop())\n",
    "\n",
    "\n"
   ]
  },
  {
   "cell_type": "markdown",
   "id": "643c5319",
   "metadata": {},
   "source": [
    "#### Check Subset"
   ]
  },
  {
   "cell_type": "code",
   "execution_count": null,
   "id": "05aa519f",
   "metadata": {},
   "outputs": [],
   "source": [
    "# Enter your code here. Read input from STDIN. Print output to STDOUT\n",
    "test= int(input())\n",
    "\n",
    "for i in range(test):\n",
    "    sizeA=int(input())\n",
    "    A=set(map(int,input().split()))\n",
    "    sizeB=int(input())\n",
    "    B=set(map(int,input().split()))\n",
    "    \n",
    "    diff=B.difference(A)\n",
    "    if(sizeB-sizeA==len(diff)):\n",
    "        print(\"True\")\n",
    "    else:\n",
    "        print(\"False\")\n",
    "    \n",
    "    \n",
    "\n"
   ]
  },
  {
   "cell_type": "markdown",
   "id": "b48b6296",
   "metadata": {},
   "source": [
    "#### Check Strict Superset"
   ]
  },
  {
   "cell_type": "code",
   "execution_count": null,
   "id": "ed564038",
   "metadata": {},
   "outputs": [],
   "source": [
    "# Enter your code here. Read input from STDIN. Print output to STDOUT\n",
    "A=set(map(int,input().split()))\n",
    "n=int(input())\n",
    "t=0\n",
    "\n",
    "\n",
    "for i in range(n):\n",
    "    subset=set(map(int,input().split()))\n",
    "    \n",
    "    diff=A.difference(subset)\n",
    "    \n",
    "    if (len(A)-len(subset)==len(diff)):\n",
    "        t+=1\n",
    "\n",
    "if t==n:\n",
    "    print(\"True\")\n",
    "else:\n",
    "    print(\"False\")\n",
    "            \n",
    "\n",
    "            \n",
    "\n"
   ]
  },
  {
   "cell_type": "markdown",
   "id": "622235d0",
   "metadata": {},
   "source": [
    "### Collections"
   ]
  },
  {
   "cell_type": "markdown",
   "id": "680e60ac",
   "metadata": {},
   "source": [
    "#### collections.Counter()"
   ]
  },
  {
   "cell_type": "code",
   "execution_count": null,
   "id": "7d94e013",
   "metadata": {},
   "outputs": [],
   "source": [
    "# Enter your code here. Read input from STDIN. Print output to STDOUT\n",
    "from collections import Counter\n",
    "\n",
    "X=int(input())\n",
    "sizes=Counter(list(map(int,input().split())))\n",
    "customers=int(input())\n",
    "money=0\n",
    "\n",
    "\n",
    "for i in range(customers):\n",
    "    purchase=list(map(int,input().split()))\n",
    "    \n",
    "    if purchase[0] in sizes:\n",
    "        money+=purchase[1]\n",
    "        if sizes[purchase[0]]>0:\n",
    "            sizes[purchase[0]]-=1\n",
    "            if sizes[purchase[0]]==0:\n",
    "                del sizes[purchase[0]]\n",
    "\n",
    "print(money)\n",
    "    \n",
    "    \n",
    "\n"
   ]
  },
  {
   "cell_type": "markdown",
   "id": "cf4fb64e",
   "metadata": {},
   "source": [
    "#### DefaultDict Tutorial"
   ]
  },
  {
   "cell_type": "code",
   "execution_count": null,
   "id": "30dc2ebd",
   "metadata": {},
   "outputs": [],
   "source": [
    "# Enter your code here. Read input from STDIN. Print output to STDOUT\n",
    "from collections import defaultdict\n",
    "\n",
    "sizes = list(map(int,input().split()))\n",
    "\n",
    "#A\n",
    "A=defaultdict(list)\n",
    "for i in range(sizes[0]):\n",
    "    letter=input()\n",
    "    A[letter].append(str(i+1)) #position\n",
    "\n",
    "\n",
    "for i in range(sizes[1]):\n",
    "    letter=input()\n",
    "    if letter in A:\n",
    "        print(\" \".join(A[letter]))\n",
    "    else:\n",
    "        print(\"-1\")\n",
    "            \n",
    "        \n",
    "        \n",
    "\n"
   ]
  },
  {
   "cell_type": "markdown",
   "id": "266ba40e",
   "metadata": {},
   "source": [
    "#### Collections.namedtuple()"
   ]
  },
  {
   "cell_type": "code",
   "execution_count": null,
   "id": "6d73ae5c",
   "metadata": {},
   "outputs": [],
   "source": [
    "# Enter your code here. Read input from STDIN. Print output to STDOUT\n",
    "from collections import namedtuple\n",
    "\n",
    "average=0\n",
    "N=int(input())\n",
    "columns=input().split()\n",
    "\n",
    "\n",
    "for i in range(N):\n",
    "    values=input().split()\n",
    "    average+=int(values[columns.index(\"MARKS\")])\n",
    "print(average/N)\n",
    "\n"
   ]
  },
  {
   "cell_type": "markdown",
   "id": "21b13a02",
   "metadata": {},
   "source": [
    "#### Collections.OrderedDict()"
   ]
  },
  {
   "cell_type": "code",
   "execution_count": null,
   "id": "29804b1c",
   "metadata": {},
   "outputs": [],
   "source": [
    "# Enter your code here. Read input from STDIN. Print output to STDOUT\n",
    "from collections import OrderedDict\n",
    "\n",
    "N=int(input())\n",
    "\n",
    "ordered_items=OrderedDict()\n",
    "\n",
    "\n",
    "for i in range(N):\n",
    "    s=input().split()\n",
    "    item=\" \".join(s[:-1])\n",
    "    price=int(s[-1])\n",
    "    if item in ordered_items:\n",
    "        ordered_items[item]+=price\n",
    "    else:\n",
    "        ordered_items[item]=price\n",
    "\n",
    "for item,price in ordered_items.items():\n",
    "    print(item,price)\n",
    "    \n",
    "    \n",
    "\n"
   ]
  },
  {
   "cell_type": "markdown",
   "id": "2de590da",
   "metadata": {},
   "source": [
    "#### Word Order"
   ]
  },
  {
   "cell_type": "code",
   "execution_count": null,
   "id": "54a5b5ac",
   "metadata": {},
   "outputs": [],
   "source": [
    "# Enter your code here. Read input from STDIN. Print output to STDOUT\n",
    "from collections import OrderedDict\n",
    "n=int(input())\n",
    "ord_words=OrderedDict()\n",
    "\n",
    "for i in range(n):\n",
    "    word=\"\".join(input().split())\n",
    "    if word in ord_words:\n",
    "        ord_words[word]+=1\n",
    "    else:\n",
    "        ord_words[word]=1\n",
    "\n",
    "print(len(ord_words))\n",
    "for j in ord_words.values():\n",
    "    print(j,end=\" \")\n",
    "\n"
   ]
  },
  {
   "cell_type": "markdown",
   "id": "f7074ce6",
   "metadata": {},
   "source": [
    "#### Collections.deque()\n",
    "\n"
   ]
  },
  {
   "cell_type": "code",
   "execution_count": null,
   "id": "82b24756",
   "metadata": {},
   "outputs": [],
   "source": [
    "# Enter your code here. Read input from STDIN. Print output to STDOUT\n",
    "from collections import deque\n",
    "\n",
    "N=int(input())\n",
    "d=deque()\n",
    "\n",
    "for i in range(N):\n",
    "    s=input().split()\n",
    "    \n",
    "    if s[0]==\"append\":\n",
    "        d.append(int(s[1]))\n",
    "    elif s[0]==\"appendleft\":\n",
    "        d.appendleft(int(s[1]))\n",
    "    elif s[0]==\"pop\":\n",
    "        d.pop()\n",
    "    elif s[0]==\"popleft\":\n",
    "        d.popleft()\n",
    "\n",
    "for i in d:\n",
    "    print(i,end=\" \")\n",
    "\n"
   ]
  },
  {
   "cell_type": "markdown",
   "id": "2d4f24a8",
   "metadata": {},
   "source": [
    "#### Piling Up!"
   ]
  },
  {
   "cell_type": "code",
   "execution_count": null,
   "id": "b06e1c5d",
   "metadata": {},
   "outputs": [],
   "source": [
    "# Enter your code here. Read input from STDIN. Print output to STDOUT\n",
    "from collections import deque\n",
    "\n",
    "T = int(input())\n",
    "blocks = deque()\n",
    "p = 999999999999999999999\n",
    "res = \"No\"\n",
    "\n",
    "for i in range(T):\n",
    "    n = int(input())  # n of blocks\n",
    "    s = list(map(int, input().split()))  # sides\n",
    "\n",
    "    for j in s:\n",
    "        blocks.append(j)\n",
    "\n",
    "    for k in range(len(s)):\n",
    "\n",
    "\n",
    "        if blocks[-1] >= blocks[0]:\n",
    "            if blocks[-1] <= p:\n",
    "                p = blocks.pop()\n",
    "            elif blocks[0] <= p:\n",
    "                p = blocks.popleft()\n",
    "            else:\n",
    "                break\n",
    "        elif blocks[-1] < blocks[0]:\n",
    "     \n",
    "            if blocks[0] <= p:\n",
    "                p = blocks.popleft()\n",
    "            elif blocks[-1] <= p:\n",
    "                p = blocks.pop()\n",
    "            else:\n",
    "                break\n",
    "        if len(blocks) == 0:\n",
    "            print(\"Yes\")\n",
    "            p = 999999999999999999999\n",
    "            break\n",
    "    if len(blocks) > 0:\n",
    "        print(\"No\")\n",
    "        blocks.clear()\n",
    "        p = 999999999999999999999\n",
    "\n"
   ]
  },
  {
   "cell_type": "markdown",
   "id": "efbf72a2",
   "metadata": {},
   "source": [
    "#### Company Logo"
   ]
  },
  {
   "cell_type": "code",
   "execution_count": null,
   "id": "e98887f7",
   "metadata": {},
   "outputs": [],
   "source": [
    "#!/bin/python3\n",
    "\n",
    "import math\n",
    "import os\n",
    "import random\n",
    "import re\n",
    "import sys\n",
    "from collections import Counter\n",
    "\n",
    "\n",
    "if __name__ == '__main__':\n",
    "    s = input()\n",
    "    \n",
    "    l=Counter(s)\n",
    "\n",
    "    l=sorted(l.items(), key=lambda x: (-x[1],x[0]), reverse=True)\n",
    "    \n",
    "    \n",
    "    for i in range(len(l)-3):\n",
    "        l.pop(0)\n",
    "  \n",
    "    \n",
    "    \n",
    "    for i in range(len(l)):\n",
    "        p=l.pop()\n",
    "        print(p[0],p[1])\n",
    "\n"
   ]
  },
  {
   "cell_type": "markdown",
   "id": "a94354d4",
   "metadata": {},
   "source": [
    "### Date and Time"
   ]
  },
  {
   "cell_type": "markdown",
   "id": "b7578dcd",
   "metadata": {},
   "source": [
    "#### Calendar Module"
   ]
  },
  {
   "cell_type": "code",
   "execution_count": null,
   "id": "875c0c30",
   "metadata": {},
   "outputs": [],
   "source": [
    "# Enter your code here. Read input from STDIN. Print output to STDOUT\n",
    "import calendar\n",
    "\n",
    "week = [\"MONDAY\",\"TUESDAY\",\"WEDNESDAY\",\"THURSDAY\",\"FRIDAY\",\"SATURDAY\",\"SUNDAY\"]\n",
    "s=list(map(int,input().split()))\n",
    "\n",
    "print(week[calendar.weekday(s[2],s[0],s[1])])\n",
    "\n"
   ]
  },
  {
   "cell_type": "markdown",
   "id": "488fc9a7",
   "metadata": {},
   "source": [
    "#### Time Delta"
   ]
  },
  {
   "cell_type": "code",
   "execution_count": null,
   "id": "6091fe49",
   "metadata": {},
   "outputs": [],
   "source": [
    "#!/bin/python3\n",
    "\n",
    "import math\n",
    "import os\n",
    "import random\n",
    "import re\n",
    "import sys\n",
    "from datetime import datetime\n",
    "\n",
    "# Complete the time_delta function below.\n",
    "def time_delta(t1, t2):\n",
    "    t1=datetime.strptime(t1,\"%a %d %b %Y %H:%M:%S %z\")\n",
    "    t2=datetime.strptime(t2,\"%a %d %b %Y %H:%M:%S %z\")\n",
    "    diff=abs((t1-t2).total_seconds())\n",
    "    \n",
    "    #int to get rid of decimal\n",
    "    return str(int(diff))\n",
    "    \n",
    "    \n",
    "    \n",
    "if __name__ == '__main__':\n",
    "    fptr = open(os.environ['OUTPUT_PATH'], 'w')\n",
    "\n",
    "    t = int(input())\n",
    "\n",
    "    for t_itr in range(t):\n",
    "        t1 = input()\n",
    "\n",
    "        t2 = input()\n",
    "\n",
    "        delta = time_delta(t1, t2)\n",
    "\n",
    "        fptr.write(delta + '\\n')\n",
    "\n",
    "    fptr.close()\n",
    "\n"
   ]
  },
  {
   "cell_type": "markdown",
   "id": "453575ab",
   "metadata": {},
   "source": [
    "### Exceptions"
   ]
  },
  {
   "cell_type": "markdown",
   "id": "a9fd37db",
   "metadata": {},
   "source": [
    "#### Exceptions"
   ]
  },
  {
   "cell_type": "code",
   "execution_count": null,
   "id": "bcd1b52d",
   "metadata": {},
   "outputs": [],
   "source": [
    "# Enter your code here. Read input from STDIN. Print output to STDOUT\n",
    "T=int(input())\n",
    "\n",
    "for i in range(T):\n",
    "    s=input().split()\n",
    "    try:\n",
    "        res=int(s[0])//int(s[1])\n",
    "        print(res) \n",
    "    except ZeroDivisionError as e:\n",
    "        print(\"Error Code:\", e)\n",
    "    except ValueError as e1:\n",
    "        print(\"Error Code:\",e1)\n",
    "    \n",
    "\n"
   ]
  },
  {
   "cell_type": "markdown",
   "id": "7700d32a",
   "metadata": {},
   "source": [
    "### Built-ins"
   ]
  },
  {
   "cell_type": "markdown",
   "id": "d859c140",
   "metadata": {},
   "source": [
    "#### Zipped!\n",
    "\n"
   ]
  },
  {
   "cell_type": "code",
   "execution_count": null,
   "id": "f0ead3df",
   "metadata": {},
   "outputs": [],
   "source": [
    "# Enter your code here. Read input from STDIN. Print output to STDOUT\n",
    "s=list(map(int,input().split()))\n",
    "N=s[0]\n",
    "X=s[1]\n",
    "marks=[]\n",
    "for i in range(X):\n",
    "    student=list(map(float,input().split()))\n",
    "    marks.append(student)\n",
    "\n",
    "for i in zip(*marks):\n",
    "    print(sum(i[:N])/X)\n",
    "\n"
   ]
  },
  {
   "cell_type": "markdown",
   "id": "1ce5bedf",
   "metadata": {},
   "source": [
    "#### Athlete Sort"
   ]
  },
  {
   "cell_type": "code",
   "execution_count": null,
   "id": "b8d48e05",
   "metadata": {},
   "outputs": [],
   "source": [
    "#!/bin/python3\n",
    "\n",
    "import math\n",
    "import os\n",
    "import random\n",
    "import re\n",
    "import sys\n",
    "\n",
    "\n",
    "\n",
    "if __name__ == '__main__':\n",
    "    first_multiple_input = input().rstrip().split()\n",
    "\n",
    "    n = int(first_multiple_input[0])\n",
    "\n",
    "    m = int(first_multiple_input[1])\n",
    "\n",
    "    arr = []\n",
    "    columns=[]\n",
    "    for _ in range(n):\n",
    "        arr.append(list(map(int, input().rstrip().split())))\n",
    "        \n",
    "    k = int(input().strip())\n",
    "    \n",
    "    #sort based on kth attribute\n",
    "    arr.sort(key=lambda x: x[k])\n",
    "    \n",
    "    count=0\n",
    "    for j in arr:\n",
    "        for k in j:\n",
    "            if count<m-1:\n",
    "                print(k,end=\" \")\n",
    "                count+=1\n",
    "            else:\n",
    "                print(k)\n",
    "                count=0\n",
    "        \n",
    "    \n",
    "\n"
   ]
  },
  {
   "cell_type": "markdown",
   "id": "7b00ca92",
   "metadata": {},
   "source": [
    "#### ginortS"
   ]
  },
  {
   "cell_type": "code",
   "execution_count": null,
   "id": "3c2079e5",
   "metadata": {},
   "outputs": [],
   "source": [
    "# Enter your code here. Read input from STDIN. Print output to STDOUT\n",
    "s=list(input())\n",
    "\n",
    "#split into different lists\n",
    "lower=[x for x in s if x.islower()]\n",
    "lower.sort()\n",
    "upper=[x for x in s if x.isupper()]\n",
    "upper.sort()\n",
    "odd=[x for x in s if x.isdigit() and int(x)%2==1]\n",
    "odd.sort()\n",
    "even=[x for x in s if x.isdigit() and int(x)%2==0]\n",
    "even.sort()\n",
    "print(\"\".join(lower),end=\"\")\n",
    "print(\"\".join(upper),end=\"\")\n",
    "print(\"\".join(odd),end=\"\")\n",
    "print(\"\".join(even))\n",
    "\n",
    "\n"
   ]
  },
  {
   "cell_type": "markdown",
   "id": "f66d5ff0",
   "metadata": {},
   "source": [
    "### Python Functionals"
   ]
  },
  {
   "cell_type": "markdown",
   "id": "1aec5796",
   "metadata": {},
   "source": [
    "#### Map and Lambda Function"
   ]
  },
  {
   "cell_type": "code",
   "execution_count": null,
   "id": "0c7d6717",
   "metadata": {},
   "outputs": [],
   "source": [
    "cube = lambda x: x*x*x\n",
    "\n",
    "def fibonacci(n):\n",
    "    f=[0,1,1,2,3,5,8,13,21,34,55,89,144,233,377]\n",
    "    return f[:n]\n",
    "\n",
    "\n"
   ]
  },
  {
   "cell_type": "markdown",
   "id": "83320746",
   "metadata": {},
   "source": [
    "### Regex and Parsing challenges"
   ]
  },
  {
   "cell_type": "markdown",
   "id": "57452359",
   "metadata": {},
   "source": [
    "#### Detect Floating Point Number"
   ]
  },
  {
   "cell_type": "code",
   "execution_count": null,
   "id": "94ebd0eb",
   "metadata": {},
   "outputs": [],
   "source": [
    "# Enter your code here. Read input from STDIN. Print output to STDOUT\n",
    "T=int(input())\n",
    "\n",
    "for i in range(T):\n",
    "    f=input().split()\n",
    "    for i in f:\n",
    "        try:\n",
    "            if i==\"0\":\n",
    "                print(\"False\")\n",
    "            if float(i):\n",
    "                print(\"True\")\n",
    "        except ValueError as e:\n",
    "            print(\"False\")\n",
    "\n"
   ]
  },
  {
   "cell_type": "markdown",
   "id": "a6e6d17e",
   "metadata": {},
   "source": [
    "#### Re.split()"
   ]
  },
  {
   "cell_type": "code",
   "execution_count": null,
   "id": "6cd92580",
   "metadata": {},
   "outputs": [],
   "source": [
    "regex_pattern = r\"\\.|,\"\t# Do not delete 'r'.\n",
    "\n",
    "import re\n",
    "print(\"\\n\".join(re.split(regex_pattern, input())))\n",
    "\n"
   ]
  },
  {
   "cell_type": "markdown",
   "id": "2c19e7f0",
   "metadata": {},
   "source": [
    "#### Group(), Groups() & Groupdict()"
   ]
  },
  {
   "cell_type": "code",
   "execution_count": null,
   "id": "2756c88a",
   "metadata": {},
   "outputs": [],
   "source": [
    "# Enter your code here. Read input from STDIN. Print output to STDOUT\n",
    "import re\n",
    "s=input()\n",
    "m=re.search(r\"([0-9a-zA-Z])\\1\",s)\n",
    "\n",
    "if m:\n",
    "    print(m.group(1))\n",
    "else:\n",
    "    print(\"-1\")\n",
    "\n"
   ]
  },
  {
   "cell_type": "markdown",
   "id": "305d95dd",
   "metadata": {},
   "source": [
    "#### Re.findall() & Re.finditer()"
   ]
  },
  {
   "cell_type": "code",
   "execution_count": null,
   "id": "ddf20465",
   "metadata": {},
   "outputs": [],
   "source": [
    "\n",
    "import re\n",
    "s=input().split()\n",
    "#positive lookahead and lookbehind\n",
    "\n",
    "m=re.findall(r'(?<=[QWRTYPSDFGHJKLZXCVBNMqwrtypsdfghjklzxcvbnm])[aeiouAEIOU]{2,}(?=[QWRTYPSDFGHJKLZXCVBNMqwrtypsdfghjklzxcvbnm])',str(s))\n",
    "\n",
    "if m:\n",
    "    for i in m:\n",
    "        print(i)\n",
    "else:\n",
    "    print(-1)\n",
    "\n"
   ]
  },
  {
   "cell_type": "markdown",
   "id": "1fc007b8",
   "metadata": {},
   "source": [
    "#### Re.start() & Re.end()"
   ]
  },
  {
   "cell_type": "code",
   "execution_count": null,
   "id": "75fa8c08",
   "metadata": {},
   "outputs": [],
   "source": [
    "# Enter your code here. Read input from STDIN. Print output to STDOUT\n",
    "import re\n",
    "s=input()\n",
    "k=input()\n",
    "\n",
    "#non overlapping occurences\n",
    "m = re.finditer(fr'(?={k})',s)\n",
    "l=[]\n",
    "\n",
    "for i in m:\n",
    "    l.append((i.start(),i.start()+len(k)-1))\n",
    "if l: \n",
    "    for j in l:\n",
    "        print(j)\n",
    "else:\n",
    "    print(\"(-1, -1)\")\n",
    "\n",
    "\n",
    "\n",
    "\n"
   ]
  },
  {
   "cell_type": "markdown",
   "id": "41bbb424",
   "metadata": {},
   "source": [
    "#### Regex Substitution"
   ]
  },
  {
   "cell_type": "code",
   "execution_count": null,
   "id": "4dd70e60",
   "metadata": {},
   "outputs": [],
   "source": [
    "# Enter your code here. Read input from STDIN. Print output to STDOUT\n",
    "import re\n",
    "N=int(input())\n",
    "\n",
    "for i in range(N):\n",
    "    s=input()\n",
    "    s=re.sub('(?<=\\s)\\|\\|(?=\\s)','or',s)\n",
    "    s=re.sub('(?<=\\s)\\&\\&(?=\\s)','and',s)\n",
    "    print(s)\n",
    "    \n",
    "\n"
   ]
  },
  {
   "cell_type": "markdown",
   "id": "1a45ba56",
   "metadata": {},
   "source": [
    "#### Validating Roman Numerals"
   ]
  },
  {
   "cell_type": "code",
   "execution_count": null,
   "id": "fca4d9d7",
   "metadata": {},
   "outputs": [],
   "source": [
    "regex_pattern = r\"^(M{0,3}(CM|CD|D?C{0,3})(XC|XL|L?X{0,3})(IX|IV|V?I{0,3}))$\"\n",
    "\n",
    "import re\n",
    "print(str(bool(re.match(regex_pattern, input()))))"
   ]
  },
  {
   "cell_type": "markdown",
   "id": "40501709",
   "metadata": {},
   "source": [
    "#### Validating phone numbers"
   ]
  },
  {
   "cell_type": "code",
   "execution_count": null,
   "id": "3a7cb100",
   "metadata": {},
   "outputs": [],
   "source": [
    "# Enter your code here. Read input from STDIN. Print output to STDOUT\n",
    "import re\n",
    "N=int(input())\n",
    "regex=r'^(7|8|9)[0-9]{9}$'\n",
    "\n",
    "for i in range(N):\n",
    "    t=input()\n",
    "    res=(bool(re.match(regex,t)))\n",
    "    if res:\n",
    "        print(\"YES\")\n",
    "    else:\n",
    "        print(\"NO\")\n",
    "\n"
   ]
  },
  {
   "cell_type": "markdown",
   "id": "fe738ec0",
   "metadata": {},
   "source": [
    "#### Validating and Parsing Email Addresses"
   ]
  },
  {
   "cell_type": "code",
   "execution_count": null,
   "id": "e25cf3aa",
   "metadata": {},
   "outputs": [],
   "source": [
    "# Enter your code here. Read input from STDIN. Print output to STDOUT\n",
    "import re\n",
    "import email.utils\n",
    "\n",
    "regex=r'^[a-zA-Z](\\w+[-\\w]*[\\.\\w]*[_\\w]*)?@[a-zA-Z]+\\.[a-zA-Z]{1,3}$'\n",
    "\n",
    "n=int(input())\n",
    "for i in range(n):\n",
    "    e=email.utils.parseaddr(input())\n",
    "   \n",
    "    m=bool(re.match(regex,e[1]))\n",
    "    if m:\n",
    "        print(e[0],end=\" \")\n",
    "        print(\"<\",e[1],\">\",sep=\"\")\n",
    "    \n",
    "\n"
   ]
  },
  {
   "cell_type": "markdown",
   "id": "60471093",
   "metadata": {},
   "source": [
    "#### Hex Color Code"
   ]
  },
  {
   "cell_type": "code",
   "execution_count": null,
   "id": "5ca7027d",
   "metadata": {},
   "outputs": [],
   "source": [
    "# Enter your code here. Read input from STDIN. Print output to STDOUT\n",
    "import re\n",
    "regex=r'#[0-9A-Fa-f]{3,6}(?=[;,)])'\n",
    "\n",
    "N=int(input())\n",
    "\n",
    "for i in range(N):\n",
    "    m=re.findall(regex,input())\n",
    "    \n",
    "    if m:\n",
    "        for j in m:\n",
    "            print(j)\n",
    "\n",
    "    \n",
    "\n",
    "    \n",
    "\n"
   ]
  },
  {
   "cell_type": "markdown",
   "id": "d4fe2504",
   "metadata": {},
   "source": [
    "#### HTML Parser - Part 1"
   ]
  },
  {
   "cell_type": "code",
   "execution_count": null,
   "id": "fe8d6f9a",
   "metadata": {},
   "outputs": [],
   "source": [
    "# Enter your code here. Read input from STDIN. Print output to STDOUT\n",
    "from html.parser import HTMLParser\n",
    "\n",
    "# create a subclass and override the handler methods\n",
    "class MyHTMLParser(HTMLParser):\n",
    "    def handle_starttag(self, tag, attrs):\n",
    "        print (\"Start :\", tag)\n",
    "        if attrs:\n",
    "            for i in attrs:\n",
    "                print(\"->\",i[0],\">\",i[1])\n",
    "    def handle_endtag(self, tag):\n",
    "        print (\"End   :\", tag)\n",
    "    def handle_startendtag(self, tag, attrs):\n",
    "        print (\"Empty :\", tag)\n",
    "        if attrs:\n",
    "            for j in attrs:\n",
    "                print(\"->\",j[0],\">\",j[1])\n",
    "\n",
    "parser = MyHTMLParser()\n",
    "N=int(input())\n",
    "for i in range(N):\n",
    "    parser.feed(input())\n",
    "    \n",
    "\n"
   ]
  },
  {
   "cell_type": "markdown",
   "id": "0fd340d2",
   "metadata": {},
   "source": [
    "#### HTML Parser - Part 2"
   ]
  },
  {
   "cell_type": "code",
   "execution_count": null,
   "id": "d7f90532",
   "metadata": {},
   "outputs": [],
   "source": [
    "from html.parser import HTMLParser\n",
    "\n",
    "class MyHTMLParser(HTMLParser):\n",
    "    \n",
    "    def handle_comment(self, data):\n",
    "        if (\"\\n\") in data:\n",
    "          print (\">>> Multi-line Comment\")\n",
    "          print(data)\n",
    "        else:\n",
    "            print(\">>> Single-line Comment\")\n",
    "            print(data)\n",
    "    \n",
    "    def handle_data(self, data):\n",
    "        if data != \"\\n\":\n",
    "            print (\">>> Data\")\n",
    "            print (data)\n",
    "  \n",
    "  \n",
    "  \n",
    "html = \"\"       \n",
    "for i in range(int(input())):\n",
    "    html += input().rstrip()\n",
    "    html += '\\n'\n",
    "    \n",
    "parser = MyHTMLParser()\n",
    "parser.feed(html)\n",
    "parser.close()\n",
    "\n"
   ]
  },
  {
   "cell_type": "markdown",
   "id": "a2ba905a",
   "metadata": {},
   "source": [
    "#### Detect HTML Tags, Attributes and Attribute Values"
   ]
  },
  {
   "cell_type": "code",
   "execution_count": null,
   "id": "39869dfc",
   "metadata": {},
   "outputs": [],
   "source": [
    "# Enter your code here. Read input from STDIN. Print output to STDOUT\n",
    "from html.parser import HTMLParser\n",
    "N=int(input())\n",
    "\n",
    "class MyHTMLParser(HTMLParser):\n",
    "    def handle_starttag(self, tag, attrs):\n",
    "        print(tag)\n",
    "        if attrs:\n",
    "            for i in attrs:\n",
    "                print(\"->\",i[0],\">\",i[1])\n",
    "    def handle_startendtag(self, tag, attrs):\n",
    "        print (tag)\n",
    "        if attrs:\n",
    "            for i in attrs:\n",
    "                print(\"->\",i[0],\">\",i[1])\n",
    "\n",
    "parser=MyHTMLParser()\n",
    "\n",
    "for i in range(N):\n",
    "    parser.feed(input())\n",
    "\n"
   ]
  },
  {
   "cell_type": "markdown",
   "id": "7f7fa144",
   "metadata": {},
   "source": [
    "#### Validating Credit Card Numbers"
   ]
  },
  {
   "cell_type": "code",
   "execution_count": null,
   "id": "2e570942",
   "metadata": {},
   "outputs": [],
   "source": [
    "import re\n",
    "\n",
    "N=int(input())\n",
    "regex=r'^(?!.*(\\d)(-?\\1){3})[456][0-9]{3}-?[0-9]{4}-?[0-9]{4}-?[0-9]{4}$'\n",
    "for i in range(N):\n",
    "    s=input()\n",
    "    m=(bool(re.match(regex, s)))\n",
    "    if m:\n",
    "        print(\"Valid\")\n",
    "    else:\n",
    "        print(\"Invalid\")\n",
    "\n",
    "\n"
   ]
  },
  {
   "cell_type": "markdown",
   "id": "baefe5fa",
   "metadata": {},
   "source": [
    "#### Validating Postal Codes"
   ]
  },
  {
   "cell_type": "code",
   "execution_count": null,
   "id": "f9eab7af",
   "metadata": {},
   "outputs": [],
   "source": [
    "regex_integer_in_range = r\"^[1-9]{1}[0-9]{5}$\"\t# Do not delete 'r'.\n",
    "regex_alternating_repetitive_digit_pair = r\"(\\d)(?=\\d\\1)\"\t# Do not delete 'r'.\n",
    "\n",
    "import re\n",
    "P = input()\n",
    "\n",
    "print (bool(re.match(regex_integer_in_range, P)) \n",
    "and len(re.findall(regex_alternating_repetitive_digit_pair, P)) < 2)\n"
   ]
  },
  {
   "cell_type": "markdown",
   "id": "785b2b84",
   "metadata": {},
   "source": [
    "#### Matrix Script"
   ]
  },
  {
   "cell_type": "code",
   "execution_count": null,
   "id": "a0347acc",
   "metadata": {},
   "outputs": [],
   "source": [
    "#!/bin/python3\n",
    "\n",
    "import math\n",
    "import os\n",
    "import random\n",
    "import re\n",
    "import sys\n",
    "\n",
    "\n",
    "regex= r'(?<=[a-zA-Z0-9])\\W+(?=[a-zA-Z0-9])'\n",
    "\n",
    "first_multiple_input = input().rstrip().split()\n",
    "\n",
    "n = int(first_multiple_input[0])\n",
    "\n",
    "m = int(first_multiple_input[1])\n",
    "\n",
    "matrix = []\n",
    "\n",
    "for _ in range(n):\n",
    "    matrix_item = input()\n",
    "    matrix.append(matrix_item)\n",
    "\n",
    "s=[]\n",
    "for j in range(m):\n",
    "    for i in matrix:\n",
    "        s.append(i[j])\n",
    "        \n",
    "s = \"\".join(s)\n",
    "print(re.sub(regex,\" \",s))\n",
    "\n"
   ]
  },
  {
   "cell_type": "markdown",
   "id": "5f425e90",
   "metadata": {},
   "source": [
    "#### Validating UID"
   ]
  },
  {
   "cell_type": "code",
   "execution_count": null,
   "id": "6f97ae72",
   "metadata": {},
   "outputs": [],
   "source": [
    "# Enter your code here. Read input from STDIN. Print output to STDOUT\n",
    "import re\n",
    "regex_length=r'[0-9A-Za-z]{10}'\n",
    "regex_dig=r'.*[0-9].*[0-9].*[0-9].*'\n",
    "regex_char=r'.*[A-Z].*[A-Z].*'\n",
    "regex_rep = r'^(?!.*(.).*\\1)'\n",
    "for i in range(int(input())):\n",
    "    s=input()\n",
    "    if (\n",
    "        re.match(regex_length, s) and\n",
    "        re.match(regex_dig, s) and\n",
    "        re.match(regex_char, s) and\n",
    "        re.match(regex_rep, s)\n",
    "    ):\n",
    "        print(\"Valid\")\n",
    "    else:\n",
    "        print(\"Invalid\")\n",
    "\n"
   ]
  },
  {
   "cell_type": "markdown",
   "id": "6cbbbe80",
   "metadata": {},
   "source": [
    "### XML"
   ]
  },
  {
   "cell_type": "markdown",
   "id": "5a1ec675",
   "metadata": {},
   "source": [
    "#### XML 1 - Find the Score"
   ]
  },
  {
   "cell_type": "code",
   "execution_count": null,
   "id": "8770f0fe",
   "metadata": {},
   "outputs": [],
   "source": [
    "import sys\n",
    "import xml.etree.ElementTree as etree\n",
    "\n",
    "def get_attr_number(node):\n",
    "    score=len(node.attrib)\n",
    "    \n",
    "    for i in node:\n",
    "        score+=get_attr_number(i)\n",
    "    return score\n",
    "\n",
    "\n",
    "if __name__ == '__main__':\n",
    "    sys.stdin.readline()\n",
    "    xml = sys.stdin.read()\n",
    "    tree = etree.ElementTree(etree.fromstring(xml))\n",
    "    root = tree.getroot()\n",
    "    print(get_attr_number(root))\n"
   ]
  },
  {
   "cell_type": "markdown",
   "id": "4fe3d73e",
   "metadata": {},
   "source": [
    "#### XML2 - Find the Maximum Depth"
   ]
  },
  {
   "cell_type": "code",
   "execution_count": null,
   "id": "ac6510b9",
   "metadata": {},
   "outputs": [],
   "source": [
    "import xml.etree.ElementTree as etree\n",
    "\n",
    "\n",
    "maxdepth = 0\n",
    "def depth(elem, level):\n",
    "    global maxdepth\n",
    "    #current depth\n",
    "    level+=1\n",
    "    \n",
    "    if level > maxdepth:\n",
    "        maxdepth = level\n",
    "    \n",
    "    for i in elem:\n",
    "        depth(i, level)    \n",
    "    \n",
    "    \n",
    "if __name__ == '__main__':\n",
    "    n = int(input())\n",
    "    xml = \"\"\n",
    "    for i in range(n):\n",
    "        xml =  xml + input() + \"\\n\"\n",
    "    tree = etree.ElementTree(etree.fromstring(xml))\n",
    "    depth(tree.getroot(), -1)\n",
    "    print(maxdepth)\n"
   ]
  },
  {
   "cell_type": "markdown",
   "id": "0502a1bc",
   "metadata": {},
   "source": [
    "### Closures and Decorations"
   ]
  },
  {
   "cell_type": "markdown",
   "id": "9e070a19",
   "metadata": {},
   "source": [
    "#### Standardize Mobile Number Using Decorators"
   ]
  },
  {
   "cell_type": "code",
   "execution_count": null,
   "id": "ce163028",
   "metadata": {},
   "outputs": [],
   "source": [
    "def wrapper(f):\n",
    "    def fun(l):\n",
    "        tel = []\n",
    "        for i in l:\n",
    "            if len(i)==13:\n",
    "                s=[\"+91\",i[3:8],i[8:]]\n",
    "                tel.append(\" \".join(s))\n",
    "            elif len(i)==12:\n",
    "                s=[\"+91\",i[2:7],i[7:]]\n",
    "                tel.append(\" \".join(s))\n",
    "            elif len(i)==11:\n",
    "                s=[\"+91\",i[1:6],i[6:]]\n",
    "                tel.append(\" \".join(s))\n",
    "            elif len(i)==10:\n",
    "                s=[\"+91\",i[:5],i[5:]]\n",
    "                tel.append(\" \".join(s))\n",
    "        f(tel)\n",
    "    return fun\n",
    "\n",
    "\n",
    "@wrapper\n",
    "def sort_phone(l):\n",
    "    print(*sorted(l), sep='\\n')\n",
    "\n",
    "if __name__ == '__main__':\n",
    "    l = [input() for _ in range(int(input()))]\n",
    "    sort_phone(l) \n",
    "\n"
   ]
  },
  {
   "cell_type": "markdown",
   "id": "b5265522",
   "metadata": {},
   "source": [
    "#### Decorators 2 - Name Directory"
   ]
  },
  {
   "cell_type": "code",
   "execution_count": null,
   "id": "1f9c1615",
   "metadata": {},
   "outputs": [],
   "source": [
    "import operator\n",
    "\n",
    "\n",
    "def person_lister(f):\n",
    "    def inner(people):\n",
    "        people.sort(key=lambda x: int(x[2]))\n",
    "        return [f(i) for i in people]\n",
    "    return inner\n",
    "\n",
    "@person_lister\n",
    "def name_format(person):\n",
    "    return (\"Mr. \" if person[3] == \"M\" else \"Ms. \") + person[0] + \" \" + person[1]\n",
    "\n",
    "if __name__ == '__main__':\n",
    "    people = [input().split() for i in range(int(input()))]\n",
    "    print(*name_format(people), sep='\\n')\n"
   ]
  },
  {
   "cell_type": "markdown",
   "id": "2f79ab7e",
   "metadata": {},
   "source": [
    "### Numpy"
   ]
  },
  {
   "cell_type": "markdown",
   "id": "69219bb4",
   "metadata": {},
   "source": [
    "#### Arrays"
   ]
  },
  {
   "cell_type": "code",
   "execution_count": null,
   "id": "3f1530f2",
   "metadata": {},
   "outputs": [],
   "source": [
    "import numpy\n",
    "\n",
    "def arrays(arr):\n",
    "    arr=arr[::-1]\n",
    "    arr=numpy.array(arr,float)\n",
    "    return arr\n",
    "\n",
    "\n",
    "arr = input().strip().split(' ')\n",
    "result = arrays(arr)\n",
    "print(result)"
   ]
  },
  {
   "cell_type": "markdown",
   "id": "c408133d",
   "metadata": {},
   "source": [
    "#### Shape and Reshape"
   ]
  },
  {
   "cell_type": "code",
   "execution_count": null,
   "id": "9726dd20",
   "metadata": {},
   "outputs": [],
   "source": [
    "# Enter your code here. Read input from STDIN. Print output to STDOUT\n",
    "import numpy\n",
    "s=list(map(int,input().split()))\n",
    "print(numpy.reshape(s,(3,3)))\n",
    "\n"
   ]
  },
  {
   "cell_type": "markdown",
   "id": "0dcd52fb",
   "metadata": {},
   "source": [
    "#### Transpose and Flatten"
   ]
  },
  {
   "cell_type": "code",
   "execution_count": null,
   "id": "ae294264",
   "metadata": {},
   "outputs": [],
   "source": [
    "# Enter your code here. Read input from STDIN. Print output to STDOUT\n",
    "import numpy\n",
    "s=list(map(int,input().split()))\n",
    "N,M=s[0],s[1]\n",
    "arr=[]\n",
    "for i in range(N):\n",
    "    arr.append(list(map(int,input().split())))\n",
    "arr=numpy.array(arr)\n",
    "print(numpy.transpose(arr))\n",
    "print(arr.flatten())\n",
    "\n",
    "\n",
    "\n",
    "    \n",
    "\n"
   ]
  },
  {
   "cell_type": "markdown",
   "id": "6efc35c3",
   "metadata": {},
   "source": [
    "#### Concatenate"
   ]
  },
  {
   "cell_type": "code",
   "execution_count": null,
   "id": "b6bd0817",
   "metadata": {},
   "outputs": [],
   "source": [
    "# Enter your code here. Read input from STDIN. Print output to STDOUT\n",
    "import numpy\n",
    "\n",
    "s=list(map(int,input().split()))\n",
    "N,M,P=s[0],s[1],s[2]\n",
    "arr1=[]\n",
    "arr2=[]\n",
    "\n",
    "for i in range(N):\n",
    "    r=list(map(int,input().split()))\n",
    "    arr1.append(r)\n",
    "arr1=numpy.array(arr1)\n",
    "\n",
    "for i in range(M):\n",
    "    r=list(map(int,input().split()))\n",
    "    arr2.append(r)\n",
    "arr2=numpy.array(arr2)\n",
    "\n",
    "print(numpy.concatenate((arr1,arr2),axis=0))\n",
    "\n"
   ]
  },
  {
   "cell_type": "markdown",
   "id": "c8107d93",
   "metadata": {},
   "source": [
    "#### Zeros and Ones"
   ]
  },
  {
   "cell_type": "code",
   "execution_count": null,
   "id": "194bc1c3",
   "metadata": {},
   "outputs": [],
   "source": [
    "# Enter your code here. Read input from STDIN. Print output to STDOUT\n",
    "import numpy\n",
    "N = list(map(int, input().split()))\n",
    "print (numpy.zeros(N, dtype = int))\n",
    "print (numpy.ones(N, dtype = int))\n",
    "\n"
   ]
  },
  {
   "cell_type": "markdown",
   "id": "c7f636ec",
   "metadata": {},
   "source": [
    "#### Eye and Identity"
   ]
  },
  {
   "cell_type": "code",
   "execution_count": null,
   "id": "9d056838",
   "metadata": {},
   "outputs": [],
   "source": [
    "# Enter your code here. Read input from STDIN. Print output to STDOUT\n",
    "import numpy\n",
    "numpy.set_printoptions(legacy='1.13')\n",
    "\n",
    "s=list(map(int,input().split()))\n",
    "N,M=s[0],s[1]\n",
    "\n",
    "print(numpy.eye(N,M))\n",
    "\n"
   ]
  },
  {
   "cell_type": "markdown",
   "id": "976fae8c",
   "metadata": {},
   "source": [
    "#### Array Mathematics"
   ]
  },
  {
   "cell_type": "code",
   "execution_count": null,
   "id": "026d4966",
   "metadata": {},
   "outputs": [],
   "source": [
    "# Enter your code here. Read input from STDIN. Print output to STDOUT\n",
    "import numpy\n",
    "\n",
    "s=list(map(int,input().split()))\n",
    "N,M=s[0],s[1]\n",
    "\n",
    "A=numpy.array([input().split() for i in range(N)],int)\n",
    "B=numpy.array([input().split() for i in range(N)],int)\n",
    "print(numpy.add(A,B))\n",
    "print(numpy.subtract(A,B))\n",
    "print(numpy.multiply(A,B))\n",
    "print((A//B))\n",
    "print(numpy.mod(A,B))\n",
    "print(numpy.power(A,B))\n",
    "\n"
   ]
  },
  {
   "cell_type": "markdown",
   "id": "170b6c2d",
   "metadata": {},
   "source": [
    "#### Floor, Ceil and Rint"
   ]
  },
  {
   "cell_type": "code",
   "execution_count": null,
   "id": "abf09ed0",
   "metadata": {},
   "outputs": [],
   "source": [
    "# Enter your code here. Read input from STDIN. Print output to STDOUT\n",
    "import numpy\n",
    "numpy.set_printoptions(legacy='1.13')\n",
    "\n",
    "s=list(map(float,input().split()))\n",
    "A=numpy.array(s)\n",
    "print(numpy.floor(A))\n",
    "print(numpy.ceil(A))\n",
    "print(numpy.rint(A))\n",
    "\n"
   ]
  },
  {
   "cell_type": "markdown",
   "id": "c642247f",
   "metadata": {},
   "source": [
    "#### Sum and Prod"
   ]
  },
  {
   "cell_type": "code",
   "execution_count": null,
   "id": "5bb7ac36",
   "metadata": {},
   "outputs": [],
   "source": [
    "# Enter your code here. Read input from STDIN. Print output to STDOUT\n",
    "import numpy\n",
    "\n",
    "s=list(map(int,input().split()))\n",
    "N,M=s[0],s[1]\n",
    "\n",
    "arr=[]\n",
    "for i in range(N):\n",
    "    arr.append(list(map(int,input().split())))\n",
    "arr=numpy.array(arr)\n",
    "arr_sum=(numpy.sum(arr,axis=0))\n",
    "print(numpy.prod(arr_sum))\n",
    "\n"
   ]
  },
  {
   "cell_type": "markdown",
   "id": "70745768",
   "metadata": {},
   "source": [
    "#### Min and Max"
   ]
  },
  {
   "cell_type": "code",
   "execution_count": null,
   "id": "8077f41c",
   "metadata": {},
   "outputs": [],
   "source": [
    "# Enter your code here. Read input from STDIN. Print output to STDOUT\n",
    "import numpy\n",
    "\n",
    "s=list(map(int,input().split()))\n",
    "N,M=s[0],s[1]\n",
    "arr=[]\n",
    "for i in range(N):\n",
    "    arr.append(list(map(int,input().split())))\n",
    "arr=numpy.array(arr)\n",
    "minimum=numpy.min(arr,axis=1)\n",
    "print(numpy.max(minimum))\n",
    "\n"
   ]
  },
  {
   "cell_type": "markdown",
   "id": "7961bee4",
   "metadata": {},
   "source": [
    "#### Mean, Var, and Std"
   ]
  },
  {
   "cell_type": "code",
   "execution_count": null,
   "id": "556907c9",
   "metadata": {},
   "outputs": [],
   "source": [
    "# Enter your code here. Read input from STDIN. Print output to STDOUT\n",
    "import numpy\n",
    "\n",
    "s=list(map(int,input().split()))\n",
    "N,M=s[0],s[1]\n",
    "arr=[]\n",
    "\n",
    "for i in range(N):\n",
    "    arr.append(list(map(int,input().split())))\n",
    "arr=numpy.array(arr)\n",
    "print(numpy.mean(arr,axis=1))\n",
    "print(numpy.var(arr,axis=0))\n",
    "std=(numpy.std(arr))\n",
    "print(round(std,11))\n",
    "\n"
   ]
  },
  {
   "cell_type": "markdown",
   "id": "59e734a4",
   "metadata": {},
   "source": [
    "#### Dot and Cross"
   ]
  },
  {
   "cell_type": "code",
   "execution_count": null,
   "id": "87bd07f3",
   "metadata": {},
   "outputs": [],
   "source": [
    "# Enter your code here. Read input from STDIN. Print output to STDOUT\n",
    "import numpy\n",
    "\n",
    "N=int(input())\n",
    "A=[]\n",
    "B=[]\n",
    "\n",
    "for i in range(N):\n",
    "    A.append(list(map(int,input().split())))\n",
    "A=numpy.array(A)\n",
    "\n",
    "\n",
    "for i in range(N):\n",
    "    B.append(list(map(int,input().split())))\n",
    "B=numpy.array(B)\n",
    "\n",
    "print(numpy.dot(A,B))\n",
    "\n"
   ]
  },
  {
   "cell_type": "markdown",
   "id": "beaa4836",
   "metadata": {},
   "source": [
    "#### Inner and Outer"
   ]
  },
  {
   "cell_type": "code",
   "execution_count": null,
   "id": "52041537",
   "metadata": {},
   "outputs": [],
   "source": [
    "# Enter your code here. Read input from STDIN. Print output to STDOUT\n",
    "import numpy\n",
    "\n",
    "\n",
    "A=numpy.array(input().split(),int)\n",
    "B=numpy.array(input().split(),int)\n",
    "print(numpy.inner(A,B))\n",
    "print(numpy.outer(A,B))\n",
    "\n"
   ]
  },
  {
   "cell_type": "markdown",
   "id": "93e546d3",
   "metadata": {},
   "source": [
    "#### Polynomials"
   ]
  },
  {
   "cell_type": "code",
   "execution_count": null,
   "id": "30e6fcc4",
   "metadata": {},
   "outputs": [],
   "source": [
    "# Enter your code here. Read input from STDIN. Print output to STDOUT\n",
    "import numpy\n",
    "P=numpy.array(input().split(),float)\n",
    "print(numpy.polyval(P,int(input())))\n",
    "\n"
   ]
  },
  {
   "cell_type": "markdown",
   "id": "c9eb407d",
   "metadata": {},
   "source": [
    "#### Linear Algebra"
   ]
  },
  {
   "cell_type": "code",
   "execution_count": null,
   "id": "1ec60baf",
   "metadata": {},
   "outputs": [],
   "source": [
    "# Enter your code here. Read input from STDIN. Print output to STDOUT\n",
    "import numpy\n",
    "N=int(input())\n",
    "A = [list(map(float, input().split())) for i in range(N)]\n",
    "A=numpy.array(A)\n",
    "print(round(numpy.linalg.det(A),2))\n",
    "    \n",
    "\n"
   ]
  },
  {
   "cell_type": "markdown",
   "id": "2a5000e9",
   "metadata": {},
   "source": [
    "## Problem 2"
   ]
  },
  {
   "cell_type": "markdown",
   "id": "be301a80",
   "metadata": {},
   "source": [
    "#### Birthday Cake Candles"
   ]
  },
  {
   "cell_type": "code",
   "execution_count": null,
   "id": "22257d92",
   "metadata": {},
   "outputs": [],
   "source": [
    "#!/bin/python3\n",
    "\n",
    "import math\n",
    "import os\n",
    "import random\n",
    "import re\n",
    "import sys\n",
    "\n",
    "#\n",
    "# Complete the 'birthdayCakeCandles' function below.\n",
    "#\n",
    "# The function is expected to return an INTEGER.\n",
    "# The function accepts INTEGER_ARRAY candles as parameter.\n",
    "#\n",
    "\n",
    "def birthdayCakeCandles(candles):\n",
    "    m=max(candles)\n",
    "    n=candles.count(m)\n",
    "    return n\n",
    "\n",
    "if __name__ == '__main__':\n",
    "    fptr = open(os.environ['OUTPUT_PATH'], 'w')\n",
    "\n",
    "    candles_count = int(input().strip())\n",
    "\n",
    "    candles = list(map(int, input().rstrip().split()))\n",
    "\n",
    "    result = birthdayCakeCandles(candles)\n",
    "\n",
    "    fptr.write(str(result) + '\\n')\n",
    "\n",
    "    fptr.close()\n"
   ]
  },
  {
   "cell_type": "markdown",
   "id": "762680b4",
   "metadata": {},
   "source": [
    "#### Number Line Jumps"
   ]
  },
  {
   "cell_type": "code",
   "execution_count": null,
   "id": "9ca1e524",
   "metadata": {},
   "outputs": [],
   "source": [
    "#!/bin/python3\n",
    "\n",
    "import math\n",
    "import os\n",
    "import random\n",
    "import re\n",
    "import sys\n",
    "\n",
    "#\n",
    "# Complete the 'kangaroo' function below.\n",
    "#\n",
    "# The function is expected to return a STRING.\n",
    "# The function accepts following parameters:\n",
    "#  1. INTEGER x1\n",
    "#  2. INTEGER v1\n",
    "#  3. INTEGER x2\n",
    "#  4. INTEGER v2\n",
    "#\n",
    "\n",
    "def kangaroo(x1, v1, x2, v2):\n",
    "\n",
    "    if x1==x2 and v1!=v2:\n",
    "        return \"NO\"\n",
    "    elif (x1<x2 and v1>v2):\n",
    "        while x1<=x2:\n",
    "            x1+=v1\n",
    "            x2+=v2\n",
    "            if x1==x2:\n",
    "                return \"YES\"\n",
    "        return \"NO\"\n",
    "    elif (x2<x1 and v2>v1):\n",
    "        while x2<=x1:\n",
    "            x1+=v1\n",
    "            x2+=v2\n",
    "            if x1==x2:\n",
    "                return \"YES\"\n",
    "        return \"NO\"\n",
    "    else:\n",
    "        return \"NO\"\n",
    "if __name__ == '__main__':\n",
    "    fptr = open(os.environ['OUTPUT_PATH'], 'w')\n",
    "\n",
    "    first_multiple_input = input().rstrip().split()\n",
    "\n",
    "    x1 = int(first_multiple_input[0])\n",
    "\n",
    "    v1 = int(first_multiple_input[1])\n",
    "\n",
    "    x2 = int(first_multiple_input[2])\n",
    "\n",
    "    v2 = int(first_multiple_input[3])\n",
    "\n",
    "    result = kangaroo(x1, v1, x2, v2)\n",
    "\n",
    "    fptr.write(result + '\\n')\n",
    "\n",
    "    fptr.close()\n",
    "\n"
   ]
  },
  {
   "cell_type": "markdown",
   "id": "df9ccffb",
   "metadata": {},
   "source": [
    "#### Viral Advertising"
   ]
  },
  {
   "cell_type": "code",
   "execution_count": null,
   "id": "fc211e4c",
   "metadata": {},
   "outputs": [],
   "source": [
    "#!/bin/python3\n",
    "\n",
    "import math\n",
    "import os\n",
    "import random\n",
    "import re\n",
    "import sys\n",
    "\n",
    "#\n",
    "# Complete the 'viralAdvertising' function below.\n",
    "#\n",
    "# The function is expected to return an INTEGER.\n",
    "# The function accepts INTEGER n as parameter.\n",
    "#\n",
    "c=2\n",
    "\n",
    "def viralAdvertising(n):\n",
    "    global c\n",
    "    if n==1:\n",
    "        return 2\n",
    "    if n>1:\n",
    "        f=math.floor(3*c/2)\n",
    "        c=f\n",
    "        return f + viralAdvertising(n-1)\n",
    "\n",
    "if __name__ == '__main__':\n",
    "    fptr = open(os.environ['OUTPUT_PATH'], 'w')\n",
    "\n",
    "    n = int(input().strip())\n",
    "\n",
    "    result = viralAdvertising(n)\n",
    "\n",
    "    fptr.write(str(result) + '\\n')\n",
    "\n",
    "    fptr.close()\n",
    "\n"
   ]
  },
  {
   "cell_type": "markdown",
   "id": "9e959d7f",
   "metadata": {},
   "source": [
    "#### Recursive Digit Sum"
   ]
  },
  {
   "cell_type": "code",
   "execution_count": null,
   "id": "7b3de670",
   "metadata": {},
   "outputs": [],
   "source": [
    "#!/bin/python3\n",
    "\n",
    "import math\n",
    "import os\n",
    "import random\n",
    "import re\n",
    "import sys\n",
    "\n",
    "#\n",
    "# Complete the 'superDigit' function below.\n",
    "#\n",
    "# The function is expected to return an INTEGER.\n",
    "# The function accepts following parameters:\n",
    "#  1. STRING n\n",
    "#  2. INTEGER k\n",
    "#\n",
    "\n",
    "\n",
    "def superDigit(n, k):\n",
    "    # if single digit return it\n",
    "    if int(n)<10 and k==1:\n",
    "        return int(n)\n",
    "    tot=0\n",
    "    # first iteration just use the sum of num in n and mult for k\n",
    "    # to avoid scanning whole list\n",
    "    if k!=1:\n",
    "        for i in n[:len(n)]:\n",
    "            tot+=int(i)\n",
    "        tot=tot*k\n",
    "        print(tot)\n",
    "        return superDigit(str(tot),1)\n",
    "    # other iteration sum all nums and recall function\n",
    "    else:\n",
    "        s=list(map(int,n*k))    \n",
    "        tot=sum(s)\n",
    "        return superDigit(str(tot),1)\n",
    "    \n",
    "\n",
    "if __name__ == '__main__':\n",
    "    fptr = open(os.environ['OUTPUT_PATH'], 'w')\n",
    "\n",
    "    first_multiple_input = input().rstrip().split()\n",
    "\n",
    "    n = first_multiple_input[0]\n",
    "\n",
    "    k = int(first_multiple_input[1])\n",
    "\n",
    "    result = superDigit(n, k)\n",
    "\n",
    "    fptr.write(str(result) + '\\n')\n",
    "\n",
    "    fptr.close()\n",
    "\n"
   ]
  },
  {
   "cell_type": "markdown",
   "id": "08f5f9cb",
   "metadata": {},
   "source": [
    "#### Insertion Sort - Part 1"
   ]
  },
  {
   "cell_type": "code",
   "execution_count": null,
   "id": "066bf849",
   "metadata": {},
   "outputs": [],
   "source": [
    "#!/bin/python3\n",
    "\n",
    "import math\n",
    "import os\n",
    "import random\n",
    "import re\n",
    "import sys\n",
    "\n",
    "#\n",
    "# Complete the 'insertionSort1' function below.\n",
    "#\n",
    "# The function accepts following parameters:\n",
    "#  1. INTEGER n\n",
    "#  2. INTEGER_ARRAY arr\n",
    "#\n",
    "\n",
    "def insertionSort1(n, arr):\n",
    "    num=arr[n-1]\n",
    "    arr_sort=sorted(arr)\n",
    "    \n",
    "    for i in arr[-2::-1]:\n",
    "        if arr==arr_sort:\n",
    "            break\n",
    "        if i>num:\n",
    "            arr[arr.index(i) + 1] = i\n",
    "        else:\n",
    "            arr[arr.index(i) + 1] = num\n",
    "        print(*arr)\n",
    "    if arr!=arr_sort:\n",
    "        arr[0]=num\n",
    "        print(*arr)\n",
    "        \n",
    "if __name__ == '__main__':\n",
    "    n = int(input().strip())\n",
    "\n",
    "    arr = list(map(int, input().rstrip().split()))\n",
    "\n",
    "    insertionSort1(n, arr)\n",
    "\n"
   ]
  },
  {
   "cell_type": "markdown",
   "id": "f26a98ec",
   "metadata": {},
   "source": [
    "#### Insertion Sort - Part 2"
   ]
  },
  {
   "cell_type": "code",
   "execution_count": null,
   "id": "f6b011c1",
   "metadata": {},
   "outputs": [],
   "source": [
    "#!/bin/python3\n",
    "\n",
    "import math\n",
    "import os\n",
    "import random\n",
    "import re\n",
    "import sys\n",
    "\n",
    "#\n",
    "# Complete the 'insertionSort2' function below.\n",
    "#\n",
    "# The function accepts following parameters:\n",
    "#  1. INTEGER n\n",
    "#  2. INTEGER_ARRAY arr\n",
    "#\n",
    "\n",
    "def insertionSort2(n, arr):\n",
    "    \n",
    "    for i in range(1, n):\n",
    "        \n",
    "        to_sort = arr[i]\n",
    "        j=i-1\n",
    "        while j >= 0 and to_sort<arr[j]:\n",
    "            arr[j+1] = arr[j]\n",
    "            j-=1\n",
    "\n",
    "        arr[j+1] = to_sort\n",
    "        print(*arr)\n",
    "\n",
    "if __name__ == '__main__':\n",
    "    n = int(input().strip())\n",
    "\n",
    "    arr = list(map(int, input().rstrip().split()))\n",
    "\n",
    "    insertionSort2(n, arr)\n",
    "\n"
   ]
  }
 ],
 "metadata": {
  "kernelspec": {
   "display_name": "Python 3 (ipykernel)",
   "language": "python",
   "name": "python3"
  },
  "language_info": {
   "codemirror_mode": {
    "name": "ipython",
    "version": 3
   },
   "file_extension": ".py",
   "mimetype": "text/x-python",
   "name": "python",
   "nbconvert_exporter": "python",
   "pygments_lexer": "ipython3",
   "version": "3.11.5"
  }
 },
 "nbformat": 4,
 "nbformat_minor": 5
}
